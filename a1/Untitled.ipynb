{
 "cells": [
  {
   "cell_type": "code",
   "execution_count": 1,
   "metadata": {},
   "outputs": [],
   "source": [
    "import numpy as np\n",
    "import matplotlib.pyplot as plt\n",
    "import seaborn as sns\n",
    "import cv2\n",
    "\n",
    "%matplotlib inline"
   ]
  },
  {
   "cell_type": "code",
   "execution_count": 2,
   "metadata": {},
   "outputs": [],
   "source": [
    "def load_image_and_convert_to_grayscale()->np.ndarray:\n",
    "    image = cv2.imread('Assignment_MV_1_image.png')\n",
    "    image_gray = cv2.cvtColor(image, cv2.COLOR_RGB2GRAY)\n",
    "    image_gray = image_gray.astype(float)\n",
    "    return image_gray\n",
    "\n",
    "def display_image(i:np.ndarray)->None:\n",
    "    #ii = cv2.cvtColor(i, cv2.COLOR_GRAY2BGR)\n",
    "    cv2.imshow('gray', i)"
   ]
  },
  {
   "cell_type": "code",
   "execution_count": 3,
   "metadata": {},
   "outputs": [
    {
     "name": "stdout",
     "output_type": "stream",
     "text": [
      "[[220. 221. 221. ... 230. 230. 230.]\n",
      " [220. 221. 221. ... 228. 229. 229.]\n",
      " [221. 221. 222. ... 228. 228. 230.]\n",
      " ...\n",
      " [185. 182. 179. ... 181. 178. 177.]\n",
      " [185. 185. 183. ... 187. 186. 183.]\n",
      " [182. 183. 183. ... 187. 188. 185.]]\n"
     ]
    }
   ],
   "source": [
    "i = load_image_and_convert_to_grayscale()\n",
    "print(i)"
   ]
  },
  {
   "cell_type": "code",
   "execution_count": 6,
   "metadata": {},
   "outputs": [],
   "source": [
    "cv2.imshow(\"gray\", i)"
   ]
  },
  {
   "cell_type": "code",
   "execution_count": null,
   "metadata": {},
   "outputs": [],
   "source": []
  }
 ],
 "metadata": {
  "kernelspec": {
   "display_name": "Python 3",
   "language": "python",
   "name": "python3"
  },
  "language_info": {
   "codemirror_mode": {
    "name": "ipython",
    "version": 3
   },
   "file_extension": ".py",
   "mimetype": "text/x-python",
   "name": "python",
   "nbconvert_exporter": "python",
   "pygments_lexer": "ipython3",
   "version": "3.8.5"
  }
 },
 "nbformat": 4,
 "nbformat_minor": 4
}
